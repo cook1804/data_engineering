{
 "cells": [
  {
   "cell_type": "markdown",
   "id": "219cd023",
   "metadata": {},
   "source": [
    "#### zero()\n",
    "\n",
    "#### -괄호 안에 입력된 숫자만큼의 원소를 생성하고 0으로 초기화 "
   ]
  },
  {
   "cell_type": "code",
   "execution_count": 27,
   "id": "f1f7fe78",
   "metadata": {},
   "outputs": [
    {
     "data": {
      "text/plain": [
       "array([[0, 0],\n",
       "       [0, 0],\n",
       "       [0, 0],\n",
       "       [0, 0],\n",
       "       [0, 0]], dtype=int8)"
      ]
     },
     "execution_count": 27,
     "metadata": {},
     "output_type": "execute_result"
    }
   ],
   "source": [
    "import numpy as np\n",
    "y = np.zeros(shape=(5,2), dtype=np.int8)\n",
    "\n",
    "y\n",
    "\n",
    "# x = np.array([1,2,3])\n",
    "# type(x)\n",
    "# x.shape\n"
   ]
  },
  {
   "cell_type": "markdown",
   "id": "21ae9e5f",
   "metadata": {},
   "source": [
    "#### mean() : 배열에 저장된 원소들의 평균값을 계산"
   ]
  },
  {
   "cell_type": "code",
   "execution_count": 31,
   "id": "8c5c1cbb",
   "metadata": {},
   "outputs": [
    {
     "data": {
      "text/plain": [
       "array([2.66666667, 5.66666667])"
      ]
     },
     "execution_count": 31,
     "metadata": {},
     "output_type": "execute_result"
    }
   ],
   "source": [
    "import numpy as np\n",
    "x = np.array([1,3,4,5])\n",
    "x.mean()\n",
    "y = np.array([[1,2,5],[4,6,7]])\n",
    "y.mean()\n",
    "y.mean(axis=1)"
   ]
  },
  {
   "cell_type": "markdown",
   "id": "fcdf93b6",
   "metadata": {},
   "source": [
    "#### shape를 잘 이해할 수 있는 예제 "
   ]
  },
  {
   "cell_type": "code",
   "execution_count": 32,
   "id": "1003e8c2",
   "metadata": {},
   "outputs": [
    {
     "data": {
      "text/plain": [
       "(3,)"
      ]
     },
     "execution_count": 32,
     "metadata": {},
     "output_type": "execute_result"
    }
   ],
   "source": [
    "import numpy as np\n",
    "x = np.array([3,3,3])\n",
    "x.shape"
   ]
  },
  {
   "cell_type": "code",
   "execution_count": 33,
   "id": "4541364e",
   "metadata": {},
   "outputs": [
    {
     "data": {
      "text/plain": [
       "(2, 3)"
      ]
     },
     "execution_count": 33,
     "metadata": {},
     "output_type": "execute_result"
    }
   ],
   "source": [
    "import numpy as np\n",
    "x = np.array([[3,3,3],[3,3,3]])\n",
    "x.shape"
   ]
  },
  {
   "cell_type": "code",
   "execution_count": 41,
   "id": "a40b79db",
   "metadata": {},
   "outputs": [
    {
     "data": {
      "text/plain": [
       "(3, 2, 4)"
      ]
     },
     "execution_count": 41,
     "metadata": {},
     "output_type": "execute_result"
    }
   ],
   "source": [
    "import numpy as np\n",
    "x = np.array([[[3,3,3,3],[3,3,3,3]],[[3,3,3,3],[3,3,3,3]],[[3,3,3,3],[3,3,3,3]]])\n",
    "x.shape"
   ]
  },
  {
   "cell_type": "markdown",
   "id": "58723507",
   "metadata": {},
   "source": [
    "#### array() – Numpy 형식으로 배열의 원소를 입력할 때는 반드시 리스트 형식으로 입력\n"
   ]
  },
  {
   "cell_type": "code",
   "execution_count": 37,
   "id": "a31ba7ba",
   "metadata": {},
   "outputs": [
    {
     "name": "stdout",
     "output_type": "stream",
     "text": [
      "[1 2 3] [1 2 3] {1, 2, 3} {'a': 'b', 'c': 'd'}\n"
     ]
    }
   ],
   "source": [
    "import numpy as np\n",
    "x = np.array([1,2,3])   # array 만들 때 리스트와 튜플만 가능 set 딕셔너리 안됨.\n",
    "y = np.array((1,2,3))\n",
    "z = np.array({1,2,3})\n",
    "a = np.array({\"a\":\"b\",\"c\":\"d\"})\n",
    "print(x,y,z,a)"
   ]
  },
  {
   "cell_type": "markdown",
   "id": "8f45178a",
   "metadata": {},
   "source": [
    "#### reshape() – 배열을 원하는 모양으로 생성"
   ]
  },
  {
   "cell_type": "code",
   "execution_count": 43,
   "id": "71606e00",
   "metadata": {},
   "outputs": [
    {
     "name": "stdout",
     "output_type": "stream",
     "text": [
      "[[1 2 3 4]\n",
      " [5 6 7 8]] (2, 4) \n",
      " [[1 2]\n",
      " [3 4]\n",
      " [5 6]\n",
      " [7 8]] (4, 2)\n"
     ]
    }
   ],
   "source": [
    "import numpy as np\n",
    "a = [1,2,3,4,5,6,7,8]\n",
    "b = np.reshape(a,(2,4))\n",
    "c = np.reshape(a,(4,2))\n",
    "print(b,b.shape,'\\n',c ,c.shape)"
   ]
  },
  {
   "cell_type": "markdown",
   "id": "05dfca61",
   "metadata": {},
   "source": [
    "#### reshape() – 3차원 배열 만들기"
   ]
  },
  {
   "cell_type": "markdown",
   "id": "f0e5db5e",
   "metadata": {},
   "source": [
    "###### reshape를 활용하는 경우를 보다 보면 입력인수로 -1이 들어간 경우가 종종 있다.reshape()의 ‘-1’이 의미하는 바는, 변경된 배열의 ‘-1’ 위치의 차원은 “원래 배열의 길이와 남은 차원으로 부터 추정”이 된다는 뜻이다."
   ]
  },
  {
   "cell_type": "code",
   "execution_count": 48,
   "id": "d1f3f807",
   "metadata": {},
   "outputs": [
    {
     "name": "stdout",
     "output_type": "stream",
     "text": [
      "[1 2 3 4 5 6 7 8]\n",
      "[[[1 2]\n",
      "  [3 4]]\n",
      "\n",
      " [[5 6]\n",
      "  [7 8]]]\n"
     ]
    }
   ],
   "source": [
    "import numpy as np\n",
    "a = np.arange(1,9)\n",
    "print(a)\n",
    "b = a.reshape(2,2,2)\n",
    "print(b)"
   ]
  },
  {
   "cell_type": "code",
   "execution_count": 50,
   "id": "94300874",
   "metadata": {},
   "outputs": [
    {
     "name": "stdout",
     "output_type": "stream",
     "text": [
      "[ 1  2  3  4  5  6  7  8  9 10 11 12]\n",
      "[[[ 1  2]\n",
      "  [ 3  4]]\n",
      "\n",
      " [[ 5  6]\n",
      "  [ 7  8]]\n",
      "\n",
      " [[ 9 10]\n",
      "  [11 12]]]\n"
     ]
    }
   ],
   "source": [
    "import numpy as np\n",
    "a = np.arange(1,13)\n",
    "print(a)\n",
    "b = a.reshape(3,2,2)\n",
    "print(b)"
   ]
  },
  {
   "cell_type": "markdown",
   "id": "7c578387",
   "metadata": {},
   "source": [
    "### reshape 의미"
   ]
  },
  {
   "cell_type": "markdown",
   "id": "f327277e",
   "metadata": {},
   "source": [
    "###### reshape함수는 np.reshape(변경할 배열, 차원) 또는 배열.reshape(차원)으로 사용 할 수 있으며, 현재의 배열의 차원(1차원,2차원,3차원)을 변경하여 행렬을 반환하거나 하는 경우에 많이 이용되는 함수이다."
   ]
  },
  {
   "cell_type": "code",
   "execution_count": 52,
   "id": "12c729e6",
   "metadata": {},
   "outputs": [
    {
     "data": {
      "text/plain": [
       "array([[ 0,  1,  2,  3],\n",
       "       [ 4,  5,  6,  7],\n",
       "       [ 8,  9, 10, 11]])"
      ]
     },
     "execution_count": 52,
     "metadata": {},
     "output_type": "execute_result"
    }
   ],
   "source": [
    "import numpy as np\n",
    "x = np.arange(12)\n",
    "x = x.reshape(3,4)\n",
    "x"
   ]
  },
  {
   "cell_type": "code",
   "execution_count": 54,
   "id": "34609261",
   "metadata": {},
   "outputs": [
    {
     "data": {
      "text/plain": [
       "array([[ 0],\n",
       "       [ 1],\n",
       "       [ 2],\n",
       "       [ 3],\n",
       "       [ 4],\n",
       "       [ 5],\n",
       "       [ 6],\n",
       "       [ 7],\n",
       "       [ 8],\n",
       "       [ 9],\n",
       "       [10],\n",
       "       [11]])"
      ]
     },
     "execution_count": 54,
     "metadata": {},
     "output_type": "execute_result"
    }
   ],
   "source": [
    "import numpy as np\n",
    "x = np.arange(12)\n",
    "x.reshape(-1,1)"
   ]
  },
  {
   "cell_type": "code",
   "execution_count": 55,
   "id": "04a2e08e",
   "metadata": {},
   "outputs": [
    {
     "data": {
      "text/plain": [
       "array([[ 0,  1,  2],\n",
       "       [ 3,  4,  5],\n",
       "       [ 6,  7,  8],\n",
       "       [ 9, 10, 11]])"
      ]
     },
     "execution_count": 55,
     "metadata": {},
     "output_type": "execute_result"
    }
   ],
   "source": [
    "import numpy as np\n",
    "x = np.arange(12)\n",
    "x.reshape(-1,3)"
   ]
  },
  {
   "cell_type": "code",
   "execution_count": 57,
   "id": "7bb5ae31",
   "metadata": {},
   "outputs": [
    {
     "data": {
      "text/plain": [
       "array([[ 0,  1,  2,  3],\n",
       "       [ 4,  5,  6,  7],\n",
       "       [ 8,  9, 10, 11]])"
      ]
     },
     "execution_count": 57,
     "metadata": {},
     "output_type": "execute_result"
    }
   ],
   "source": [
    "import numpy as np\n",
    "x = np.arange(12)\n",
    "x.reshape(-1,4)"
   ]
  },
  {
   "cell_type": "code",
   "execution_count": 58,
   "id": "1d7c7911",
   "metadata": {},
   "outputs": [
    {
     "data": {
      "text/plain": [
       "array([ 0,  1,  2,  3,  4,  5,  6,  7,  8,  9, 10, 11])"
      ]
     },
     "execution_count": 58,
     "metadata": {},
     "output_type": "execute_result"
    }
   ],
   "source": [
    "import numpy as np\n",
    "x = np.arange(12)\n",
    "x.reshape(-1)"
   ]
  },
  {
   "cell_type": "code",
   "execution_count": 60,
   "id": "77583bce",
   "metadata": {},
   "outputs": [
    {
     "data": {
      "text/plain": [
       "array([[ 0,  1,  2,  3,  4,  5,  6,  7,  8,  9, 10, 11]])"
      ]
     },
     "execution_count": 60,
     "metadata": {},
     "output_type": "execute_result"
    }
   ],
   "source": [
    "import numpy as np\n",
    "x = np.arange(12)\n",
    "x.reshape(1,-1)"
   ]
  },
  {
   "cell_type": "code",
   "execution_count": null,
   "id": "21d977f5",
   "metadata": {},
   "outputs": [],
   "source": []
  },
  {
   "cell_type": "markdown",
   "id": "97167dc2",
   "metadata": {},
   "source": [
    "#### ones() – 배열을 1의 값들로 채움"
   ]
  },
  {
   "cell_type": "code",
   "execution_count": 62,
   "id": "5e7364f9",
   "metadata": {},
   "outputs": [
    {
     "name": "stdout",
     "output_type": "stream",
     "text": [
      "[[1. 1. 1.]\n",
      " [1. 1. 1.]\n",
      " [1. 1. 1.]\n",
      " [1. 1. 1.]]\n"
     ]
    }
   ],
   "source": [
    "import numpy as np\n",
    "y = np.ones([4,3])\n",
    "print(y)"
   ]
  },
  {
   "cell_type": "code",
   "execution_count": 66,
   "id": "b6629609",
   "metadata": {},
   "outputs": [],
   "source": [
    "import numpy as np\n",
    "y = np.ones([4,3])"
   ]
  },
  {
   "cell_type": "markdown",
   "id": "3206f187",
   "metadata": {},
   "source": [
    "#### Numpy 배열의 슬라이싱"
   ]
  },
  {
   "cell_type": "code",
   "execution_count": 76,
   "id": "2ec92d18",
   "metadata": {},
   "outputs": [
    {
     "name": "stdout",
     "output_type": "stream",
     "text": [
      "[[ 2 12]\n",
      " [ 3 13]\n",
      " [ 4 14]]\n"
     ]
    }
   ],
   "source": [
    "list1 = [ [1,11],[2,12],[3,13],[4,14] ]\n",
    "arr = np.array(list1)\n",
    "# print(arr)\n",
    "# print(arr[2,1])\n",
    "# print(arr[:][1])\n",
    "print(arr[1:4])"
   ]
  },
  {
   "cell_type": "markdown",
   "id": "f9e9df1f",
   "metadata": {},
   "source": [
    "##### math 모듈의 sqrt()와  numpy 모듈의 sqrt() 비교"
   ]
  },
  {
   "cell_type": "code",
   "execution_count": 79,
   "id": "8c7cfae8",
   "metadata": {},
   "outputs": [
    {
     "ename": "TypeError",
     "evalue": "must be real number, not list",
     "output_type": "error",
     "traceback": [
      "\u001b[1;31m---------------------------------------------------------------------------\u001b[0m",
      "\u001b[1;31mTypeError\u001b[0m                                 Traceback (most recent call last)",
      "\u001b[1;32m<ipython-input-79-a371fd607665>\u001b[0m in \u001b[0;36m<module>\u001b[1;34m\u001b[0m\n\u001b[0;32m      1\u001b[0m \u001b[1;32mimport\u001b[0m \u001b[0mmath\u001b[0m\u001b[1;33m\u001b[0m\u001b[1;33m\u001b[0m\u001b[0m\n\u001b[0;32m      2\u001b[0m \u001b[0mmath\u001b[0m\u001b[1;33m.\u001b[0m\u001b[0msqrt\u001b[0m\u001b[1;33m(\u001b[0m\u001b[1;36m2\u001b[0m\u001b[1;33m)\u001b[0m\u001b[1;33m\u001b[0m\u001b[1;33m\u001b[0m\u001b[0m\n\u001b[1;32m----> 3\u001b[1;33m \u001b[0mmath\u001b[0m\u001b[1;33m.\u001b[0m\u001b[0msqrt\u001b[0m\u001b[1;33m(\u001b[0m\u001b[1;33m[\u001b[0m\u001b[1;36m2\u001b[0m\u001b[1;33m,\u001b[0m\u001b[1;36m3\u001b[0m\u001b[1;33m,\u001b[0m\u001b[1;36m4\u001b[0m\u001b[1;33m]\u001b[0m\u001b[1;33m)\u001b[0m\u001b[1;33m\u001b[0m\u001b[1;33m\u001b[0m\u001b[0m\n\u001b[0m",
      "\u001b[1;31mTypeError\u001b[0m: must be real number, not list"
     ]
    }
   ],
   "source": [
    "import math\n",
    "math.sqrt(2)\n",
    "math.sqrt([2,3,4])"
   ]
  },
  {
   "cell_type": "code",
   "execution_count": 81,
   "id": "19f786bc",
   "metadata": {},
   "outputs": [
    {
     "data": {
      "text/plain": [
       "array([1.41421356, 1.73205081, 2.        ])"
      ]
     },
     "execution_count": 81,
     "metadata": {},
     "output_type": "execute_result"
    }
   ],
   "source": [
    "import numpy as np\n",
    "np.sqrt(2)\n",
    "np.sqrt([2,3,4])"
   ]
  },
  {
   "cell_type": "markdown",
   "id": "92302238",
   "metadata": {},
   "source": [
    "#### 제로벡터와 제로 행렬"
   ]
  },
  {
   "cell_type": "code",
   "execution_count": 83,
   "id": "465683a7",
   "metadata": {},
   "outputs": [
    {
     "name": "stdout",
     "output_type": "stream",
     "text": [
      "[0. 0. 0. 0. 0. 0. 0. 0. 0. 0. 0. 0. 0. 0. 0.]\n"
     ]
    }
   ],
   "source": [
    "import numpy as np\n",
    "x = np.zeros(15)\n",
    "print(x)"
   ]
  },
  {
   "cell_type": "code",
   "execution_count": 84,
   "id": "e2d9e4a1",
   "metadata": {},
   "outputs": [
    {
     "name": "stdout",
     "output_type": "stream",
     "text": [
      "[[0. 0. 0.]\n",
      " [0. 0. 0.]\n",
      " [0. 0. 0.]\n",
      " [0. 0. 0.]\n",
      " [0. 0. 0.]]\n"
     ]
    }
   ],
   "source": [
    "y = np.zeros([5,3])\n",
    "print(y)"
   ]
  },
  {
   "cell_type": "code",
   "execution_count": 86,
   "id": "ece4dc17",
   "metadata": {},
   "outputs": [
    {
     "name": "stdout",
     "output_type": "stream",
     "text": [
      "[[0. 0. 0. 0. 0.]\n",
      " [0. 0. 0. 0. 0.]\n",
      " [0. 0. 0. 0. 0.]]\n"
     ]
    }
   ],
   "source": [
    "z = y.reshape(3,5)\n",
    "print(z)"
   ]
  },
  {
   "cell_type": "code",
   "execution_count": 87,
   "id": "f04bbb29",
   "metadata": {},
   "outputs": [
    {
     "name": "stdout",
     "output_type": "stream",
     "text": [
      "[[4. 4. 4. 4. 4.]\n",
      " [4. 4. 4. 4. 4.]\n",
      " [4. 4. 4. 4. 4.]]\n"
     ]
    }
   ],
   "source": [
    "z += 4\n",
    "print(z)"
   ]
  },
  {
   "cell_type": "markdown",
   "id": "d23ec3a1",
   "metadata": {},
   "source": [
    "### 전치행렬 \n",
    "#### – 행과 열을 교환하여 얻어지는 행렬 , 행렬의 값들을 주대각선을 기준으로 위치를 바꾼 행렬을 의미\n",
    "\n",
    "##### transpose()"
   ]
  },
  {
   "cell_type": "code",
   "execution_count": 90,
   "id": "66ec5bb0",
   "metadata": {},
   "outputs": [
    {
     "name": "stdout",
     "output_type": "stream",
     "text": [
      "[[1 2]\n",
      " [3 4]]\n",
      "\n",
      "\n",
      "\n",
      "\n",
      "\n",
      "[[1 3]\n",
      " [2 4]]\n"
     ]
    }
   ],
   "source": [
    "import numpy as np\n",
    "ary =np.array([[1,2] ,[3,4]])\n",
    "print(ary)\n",
    "print('\\n\\n\\n\\n')\n",
    "trans_ary = ary.transpose()\n",
    "print(trans_ary)"
   ]
  },
  {
   "cell_type": "code",
   "execution_count": 91,
   "id": "c0f7b6cc",
   "metadata": {},
   "outputs": [
    {
     "name": "stdout",
     "output_type": "stream",
     "text": [
      "[[1 2 5]\n",
      " [3 4 6]]\n",
      "\n",
      "\n",
      "\n",
      "\n",
      "\n",
      "[[1 3]\n",
      " [2 4]\n",
      " [5 6]]\n"
     ]
    }
   ],
   "source": [
    "ary =np.array([[1,2,5] ,[3,4,6]])\n",
    "print(ary)\n",
    "print('\\n\\n\\n\\n')\n",
    "trans_ary = ary.transpose()\n",
    "print(trans_ary)"
   ]
  },
  {
   "cell_type": "markdown",
   "id": "8011674e",
   "metadata": {},
   "source": [
    "#### 2개 배열에 대한 연산\n",
    "###### – 2개 배열에 저장된 내용을 인덱스별로 계산 \n",
    "\n",
    "###### – 선형대수학의 사칙연산과 동일하게 작동\n",
    "\n",
    "###### – 곱셈도 같은 원리로 동작"
   ]
  },
  {
   "cell_type": "code",
   "execution_count": 97,
   "id": "77e39f7f",
   "metadata": {},
   "outputs": [
    {
     "name": "stdout",
     "output_type": "stream",
     "text": [
      "[4 6 8]\n",
      "[ 3  8 15]\n",
      "[0 0 2]\n",
      "[  3  16 125]\n"
     ]
    }
   ],
   "source": [
    "import numpy as np\n",
    "x = np.array((3,4,5))\n",
    "y = np.array((1,2,3))\n",
    "print(x+y)\n",
    "print(x*y)\n",
    "print(x%y)\n",
    "print(x**y)"
   ]
  },
  {
   "cell_type": "code",
   "execution_count": 102,
   "id": "a36bf4c0",
   "metadata": {},
   "outputs": [
    {
     "name": "stdout",
     "output_type": "stream",
     "text": [
      "[4 5 6]\n",
      "[4, 5, 6]\n"
     ]
    },
    {
     "ename": "TypeError",
     "evalue": "'int' object is not iterable",
     "output_type": "error",
     "traceback": [
      "\u001b[1;31m---------------------------------------------------------------------------\u001b[0m",
      "\u001b[1;31mTypeError\u001b[0m                                 Traceback (most recent call last)",
      "\u001b[1;32m<ipython-input-102-ea990e4d3d72>\u001b[0m in \u001b[0;36m<module>\u001b[1;34m\u001b[0m\n\u001b[0;32m      4\u001b[0m \u001b[0my\u001b[0m \u001b[1;33m=\u001b[0m \u001b[0mlist\u001b[0m\u001b[1;33m(\u001b[0m\u001b[0mx\u001b[0m\u001b[1;33m)\u001b[0m\u001b[1;33m\u001b[0m\u001b[1;33m\u001b[0m\u001b[0m\n\u001b[0;32m      5\u001b[0m \u001b[0mprint\u001b[0m\u001b[1;33m(\u001b[0m\u001b[0mlist\u001b[0m\u001b[1;33m(\u001b[0m\u001b[0mx\u001b[0m\u001b[1;33m)\u001b[0m\u001b[1;33m)\u001b[0m\u001b[1;33m\u001b[0m\u001b[1;33m\u001b[0m\u001b[0m\n\u001b[1;32m----> 6\u001b[1;33m \u001b[0my\u001b[0m \u001b[1;33m+=\u001b[0m \u001b[1;36m1\u001b[0m\u001b[1;33m\u001b[0m\u001b[1;33m\u001b[0m\u001b[0m\n\u001b[0m",
      "\u001b[1;31mTypeError\u001b[0m: 'int' object is not iterable"
     ]
    }
   ],
   "source": [
    "x = np.array((3,4,5))\n",
    "x += 1\n",
    "print(x)\n",
    "y = list(x)\n",
    "print(list(x))\n",
    "y += 1"
   ]
  },
  {
   "cell_type": "markdown",
   "id": "c1a8ad70",
   "metadata": {},
   "source": [
    "#### 인덱싱"
   ]
  },
  {
   "cell_type": "code",
   "execution_count": 104,
   "id": "59f45fbe",
   "metadata": {},
   "outputs": [
    {
     "name": "stdout",
     "output_type": "stream",
     "text": [
      "[4 5 6]\n",
      "[2 5 8]\n"
     ]
    }
   ],
   "source": [
    "import numpy as np\n",
    "X = np.array([[1,2,3],[4,5,6],[7,8,9]])\n",
    "print(X[1])\n",
    "print(X[:,1])"
   ]
  },
  {
   "cell_type": "markdown",
   "id": "2bb1b2b3",
   "metadata": {},
   "source": [
    "#### 2개의 Numpy 배열 간의 계산"
   ]
  },
  {
   "cell_type": "code",
   "execution_count": 108,
   "id": "72a1a57c",
   "metadata": {},
   "outputs": [
    {
     "name": "stdout",
     "output_type": "stream",
     "text": [
      "[ 9 11 13]\n"
     ]
    }
   ],
   "source": [
    "X = np.array([[1,2,3],[4,5,6],[7,8,9]])\n",
    "Y = np.array([[2,3,4],[5,6,7],[8,9,10]])\n",
    "print(X[0,:]+Y[2,:])"
   ]
  },
  {
   "cell_type": "code",
   "execution_count": 116,
   "id": "a7a47420",
   "metadata": {},
   "outputs": [
    {
     "name": "stdout",
     "output_type": "stream",
     "text": [
      "[16 45 80]\n"
     ]
    }
   ],
   "source": [
    "X = np.array([[1,2,3],[4,5,6],[7,8,9]])\n",
    "Y = np.array([[2,3,4],[5,6,7],[8,9,10]])\n",
    "print(X[:,1]*Y[2,:])"
   ]
  },
  {
   "cell_type": "code",
   "execution_count": 117,
   "id": "0df75e7f",
   "metadata": {},
   "outputs": [
    {
     "name": "stdout",
     "output_type": "stream",
     "text": [
      "[False False False  True  True]\n"
     ]
    }
   ],
   "source": [
    "import numpy as np\n",
    "a = np.array([10, 20, 30, 40, 60])\n",
    "b = a > 30\n",
    "print(b)"
   ]
  },
  {
   "cell_type": "markdown",
   "id": "0dd3ffcd",
   "metadata": {},
   "source": [
    "#### random"
   ]
  },
  {
   "cell_type": "code",
   "execution_count": 120,
   "id": "9376e9fb",
   "metadata": {},
   "outputs": [
    {
     "name": "stdout",
     "output_type": "stream",
     "text": [
      "[0.8369327  0.29043323 0.32376207 0.18140232 0.86627818]\n"
     ]
    }
   ],
   "source": [
    "import numpy as np\n",
    "ary = np.random.random(5)\n",
    "print(ary)"
   ]
  },
  {
   "cell_type": "markdown",
   "id": "07686952",
   "metadata": {},
   "source": [
    "#### rand :만들어진 난수 어레이는 주어진 값에 의해 결정되며, [0, 1) 범위에서 균일한 분포를 갖습니다"
   ]
  },
  {
   "cell_type": "code",
   "execution_count": 123,
   "id": "69f121f3",
   "metadata": {},
   "outputs": [
    {
     "name": "stdout",
     "output_type": "stream",
     "text": [
      "[0.26750287 0.39698134 0.54664947 0.93209659 0.75979966]\n",
      "[[0.53022718 0.01777406 0.64870843]\n",
      " [0.02236927 0.97727929 0.85354068]]\n",
      "[0 1 1 0 0]\n",
      "[2 2 3 2 3]\n",
      "[[3 1 4]\n",
      " [4 2 4]]\n"
     ]
    }
   ],
   "source": [
    "a = np.random.rand(5)\n",
    "print(a)\n",
    "\n",
    "b = np.random.rand(2, 3)\n",
    "print(b)\n",
    "\n",
    "a = np.random.randint(2, size=5)\n",
    "print(a)\n",
    "\n",
    "b = np.random.randint(2, 4, size=5)\n",
    "print(b)\n",
    "\n",
    "c = np.random.randint(1, 5, size=(2, 3))\n",
    "print(c)"
   ]
  },
  {
   "cell_type": "markdown",
   "id": "d26a7434",
   "metadata": {},
   "source": [
    "#### random.seed()"
   ]
  },
  {
   "cell_type": "code",
   "execution_count": 154,
   "id": "3e35b843",
   "metadata": {},
   "outputs": [
    {
     "name": "stdout",
     "output_type": "stream",
     "text": [
      "[[0.5488135  0.71518937 0.60276338]\n",
      " [0.54488318 0.4236548  0.64589411]]\n",
      "[[4.17022005e-01 7.20324493e-01 1.14374817e-04]\n",
      " [3.02332573e-01 1.46755891e-01 9.23385948e-02]]\n"
     ]
    }
   ],
   "source": [
    "import numpy as np\n",
    "np.random.seed(0)\n",
    "print(np.random.rand(2,3))\n",
    "np.random.seed(1)\n",
    "print(np.random.rand(2,3))"
   ]
  },
  {
   "cell_type": "code",
   "execution_count": 133,
   "id": "9b75a97c",
   "metadata": {},
   "outputs": [
    {
     "data": {
      "text/plain": [
       "array([ True,  True,  True,  True,  True])"
      ]
     },
     "execution_count": 133,
     "metadata": {},
     "output_type": "execute_result"
    }
   ],
   "source": [
    "np.random.seed(0)\n",
    "a = np.random.rand(5)\n",
    "a > 0.12\n",
    "# print(a)"
   ]
  },
  {
   "cell_type": "markdown",
   "id": "b4c8f06c",
   "metadata": {},
   "source": [
    "#### any() 와 all() 의 비교"
   ]
  },
  {
   "cell_type": "code",
   "execution_count": 139,
   "id": "118f0612",
   "metadata": {},
   "outputs": [
    {
     "name": "stdout",
     "output_type": "stream",
     "text": [
      "[ True  True  True  True False]\n",
      "False\n"
     ]
    }
   ],
   "source": [
    "a = np.random.rand(5)\n",
    "print(a>0.12)\n",
    "print(np.all(a>0.12))"
   ]
  },
  {
   "cell_type": "markdown",
   "id": "79fe3783",
   "metadata": {},
   "source": [
    "#### linspace()\n",
    "##### 시작과 끝의 값을 지정하고 그 사이의 값을 균등하게 배분\n",
    "##### numpy.linspace(start, stop, num=50, endpoint=True, retstep=False, dtype=None, axis=0)"
   ]
  },
  {
   "cell_type": "code",
   "execution_count": 155,
   "id": "8cdc7ac9",
   "metadata": {},
   "outputs": [
    {
     "data": {
      "text/plain": [
       "array([ 0.,  4.,  8., 12.])"
      ]
     },
     "execution_count": 155,
     "metadata": {},
     "output_type": "execute_result"
    }
   ],
   "source": [
    "import numpy as np\n",
    "np.linspace(0,12,4)"
   ]
  },
  {
   "cell_type": "code",
   "execution_count": 156,
   "id": "bd009010",
   "metadata": {},
   "outputs": [
    {
     "data": {
      "text/plain": [
       "array([ 0.        ,  4.33333333,  8.66666667, 13.        ])"
      ]
     },
     "execution_count": 156,
     "metadata": {},
     "output_type": "execute_result"
    }
   ],
   "source": [
    "import numpy as np\n",
    "np.linspace(0,13,4)"
   ]
  },
  {
   "cell_type": "code",
   "execution_count": 161,
   "id": "9efd8649",
   "metadata": {},
   "outputs": [
    {
     "data": {
      "text/plain": [
       "array([ 1. ,  3.4,  5.8,  8.2, 10.6])"
      ]
     },
     "execution_count": 161,
     "metadata": {},
     "output_type": "execute_result"
    }
   ],
   "source": [
    "#endpoint=False이면 마지막 값을 제외하고 샘플값을 만들어냄\n",
    "np.linspace(1,13,5,endpoint =False)"
   ]
  },
  {
   "cell_type": "code",
   "execution_count": 162,
   "id": "5a9d6db7",
   "metadata": {},
   "outputs": [
    {
     "data": {
      "text/plain": [
       "(array([ 1.,  4.,  7., 10., 13.]), 3.0)"
      ]
     },
     "execution_count": 162,
     "metadata": {},
     "output_type": "execute_result"
    }
   ],
   "source": [
    "#retstep=True이면 샘플 간의 간격을 출력\n",
    "np.linspace(1,13,5,retstep = True)"
   ]
  },
  {
   "cell_type": "code",
   "execution_count": null,
   "id": "75936ffd",
   "metadata": {},
   "outputs": [],
   "source": []
  }
 ],
 "metadata": {
  "kernelspec": {
   "display_name": "Python 3",
   "language": "python",
   "name": "python3"
  },
  "language_info": {
   "codemirror_mode": {
    "name": "ipython",
    "version": 3
   },
   "file_extension": ".py",
   "mimetype": "text/x-python",
   "name": "python",
   "nbconvert_exporter": "python",
   "pygments_lexer": "ipython3",
   "version": "3.8.9"
  }
 },
 "nbformat": 4,
 "nbformat_minor": 5
}
